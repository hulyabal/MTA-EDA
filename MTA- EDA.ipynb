{
 "cells": [
  {
   "cell_type": "code",
   "execution_count": 1,
   "id": "86afb031",
   "metadata": {},
   "outputs": [],
   "source": [
    "import numpy as np\n",
    "import pandas as pd\n",
    "\n",
    "import matplotlib as mpl\n",
    "import matplotlib.pyplot as plt\n",
    "import seaborn as sns"
   ]
  },
  {
   "cell_type": "code",
   "execution_count": 2,
   "id": "e62abfa1",
   "metadata": {},
   "outputs": [],
   "source": [
    "df = pd.read_csv(r'C:\\Users\\honey\\OneDrive\\Masaüstü\\WTECH\\MTA.csv')"
   ]
  },
  {
   "cell_type": "code",
   "execution_count": 3,
   "id": "28f23f28",
   "metadata": {},
   "outputs": [
    {
     "data": {
      "text/html": [
       "<div>\n",
       "<style scoped>\n",
       "    .dataframe tbody tr th:only-of-type {\n",
       "        vertical-align: middle;\n",
       "    }\n",
       "\n",
       "    .dataframe tbody tr th {\n",
       "        vertical-align: top;\n",
       "    }\n",
       "\n",
       "    .dataframe thead th {\n",
       "        text-align: right;\n",
       "    }\n",
       "</style>\n",
       "<table border=\"1\" class=\"dataframe\">\n",
       "  <thead>\n",
       "    <tr style=\"text-align: right;\">\n",
       "      <th></th>\n",
       "      <th>transit_timestamp</th>\n",
       "      <th>transit_mode</th>\n",
       "      <th>station_complex_id</th>\n",
       "      <th>station_complex</th>\n",
       "      <th>borough</th>\n",
       "      <th>payment_method</th>\n",
       "      <th>fare_class_category</th>\n",
       "      <th>ridership</th>\n",
       "      <th>transfers</th>\n",
       "      <th>latitude</th>\n",
       "      <th>longitude</th>\n",
       "      <th>Georeference</th>\n",
       "    </tr>\n",
       "  </thead>\n",
       "  <tbody>\n",
       "    <tr>\n",
       "      <th>0</th>\n",
       "      <td>05/01/2023 01:00:00 AM</td>\n",
       "      <td>subway</td>\n",
       "      <td>52</td>\n",
       "      <td>Avenue U (Q)</td>\n",
       "      <td>Brooklyn</td>\n",
       "      <td>metrocard</td>\n",
       "      <td>Metrocard - Unlimited 30-Day</td>\n",
       "      <td>2</td>\n",
       "      <td>0</td>\n",
       "      <td>40.599300</td>\n",
       "      <td>-73.955933</td>\n",
       "      <td>POINT (-73.9559326171875 40.599300384521484)</td>\n",
       "    </tr>\n",
       "    <tr>\n",
       "      <th>1</th>\n",
       "      <td>05/01/2023 01:00:00 AM</td>\n",
       "      <td>subway</td>\n",
       "      <td>52</td>\n",
       "      <td>Avenue U (Q)</td>\n",
       "      <td>Brooklyn</td>\n",
       "      <td>omny</td>\n",
       "      <td>OMNY - Full Fare</td>\n",
       "      <td>3</td>\n",
       "      <td>0</td>\n",
       "      <td>40.599300</td>\n",
       "      <td>-73.955933</td>\n",
       "      <td>POINT (-73.9559326171875 40.599300384521484)</td>\n",
       "    </tr>\n",
       "    <tr>\n",
       "      <th>2</th>\n",
       "      <td>05/01/2023 01:00:00 AM</td>\n",
       "      <td>subway</td>\n",
       "      <td>52</td>\n",
       "      <td>Avenue U (Q)</td>\n",
       "      <td>Brooklyn</td>\n",
       "      <td>metrocard</td>\n",
       "      <td>Metrocard - Unlimited 7-Day</td>\n",
       "      <td>1</td>\n",
       "      <td>0</td>\n",
       "      <td>40.599300</td>\n",
       "      <td>-73.955933</td>\n",
       "      <td>POINT (-73.9559326171875 40.599300384521484)</td>\n",
       "    </tr>\n",
       "    <tr>\n",
       "      <th>3</th>\n",
       "      <td>05/01/2023 01:00:00 AM</td>\n",
       "      <td>subway</td>\n",
       "      <td>53</td>\n",
       "      <td>Neck Rd (Q)</td>\n",
       "      <td>Brooklyn</td>\n",
       "      <td>metrocard</td>\n",
       "      <td>Metrocard - Full Fare</td>\n",
       "      <td>1</td>\n",
       "      <td>0</td>\n",
       "      <td>40.595245</td>\n",
       "      <td>-73.955162</td>\n",
       "      <td>POINT (-73.95516204833984 40.595245361328125)</td>\n",
       "    </tr>\n",
       "    <tr>\n",
       "      <th>4</th>\n",
       "      <td>05/01/2023 01:00:00 AM</td>\n",
       "      <td>subway</td>\n",
       "      <td>53</td>\n",
       "      <td>Neck Rd (Q)</td>\n",
       "      <td>Brooklyn</td>\n",
       "      <td>metrocard</td>\n",
       "      <td>Metrocard - Students</td>\n",
       "      <td>1</td>\n",
       "      <td>0</td>\n",
       "      <td>40.595245</td>\n",
       "      <td>-73.955162</td>\n",
       "      <td>POINT (-73.95516204833984 40.595245361328125)</td>\n",
       "    </tr>\n",
       "  </tbody>\n",
       "</table>\n",
       "</div>"
      ],
      "text/plain": [
       "        transit_timestamp transit_mode station_complex_id station_complex  \\\n",
       "0  05/01/2023 01:00:00 AM       subway                 52    Avenue U (Q)   \n",
       "1  05/01/2023 01:00:00 AM       subway                 52    Avenue U (Q)   \n",
       "2  05/01/2023 01:00:00 AM       subway                 52    Avenue U (Q)   \n",
       "3  05/01/2023 01:00:00 AM       subway                 53     Neck Rd (Q)   \n",
       "4  05/01/2023 01:00:00 AM       subway                 53     Neck Rd (Q)   \n",
       "\n",
       "    borough payment_method           fare_class_category  ridership  \\\n",
       "0  Brooklyn      metrocard  Metrocard - Unlimited 30-Day          2   \n",
       "1  Brooklyn           omny              OMNY - Full Fare          3   \n",
       "2  Brooklyn      metrocard   Metrocard - Unlimited 7-Day          1   \n",
       "3  Brooklyn      metrocard         Metrocard - Full Fare          1   \n",
       "4  Brooklyn      metrocard          Metrocard - Students          1   \n",
       "\n",
       "   transfers   latitude  longitude  \\\n",
       "0          0  40.599300 -73.955933   \n",
       "1          0  40.599300 -73.955933   \n",
       "2          0  40.599300 -73.955933   \n",
       "3          0  40.595245 -73.955162   \n",
       "4          0  40.595245 -73.955162   \n",
       "\n",
       "                                    Georeference  \n",
       "0   POINT (-73.9559326171875 40.599300384521484)  \n",
       "1   POINT (-73.9559326171875 40.599300384521484)  \n",
       "2   POINT (-73.9559326171875 40.599300384521484)  \n",
       "3  POINT (-73.95516204833984 40.595245361328125)  \n",
       "4  POINT (-73.95516204833984 40.595245361328125)  "
      ]
     },
     "execution_count": 3,
     "metadata": {},
     "output_type": "execute_result"
    }
   ],
   "source": [
    "df.head()"
   ]
  },
  {
   "cell_type": "code",
   "execution_count": 4,
   "id": "22331c3f",
   "metadata": {},
   "outputs": [
    {
     "name": "stdout",
     "output_type": "stream",
     "text": [
      "<class 'pandas.core.frame.DataFrame'>\n",
      "RangeIndex: 2190360 entries, 0 to 2190359\n",
      "Data columns (total 12 columns):\n",
      " #   Column               Dtype  \n",
      "---  ------               -----  \n",
      " 0   transit_timestamp    object \n",
      " 1   transit_mode         object \n",
      " 2   station_complex_id   object \n",
      " 3   station_complex      object \n",
      " 4   borough              object \n",
      " 5   payment_method       object \n",
      " 6   fare_class_category  object \n",
      " 7   ridership            int64  \n",
      " 8   transfers            int64  \n",
      " 9   latitude             float64\n",
      " 10  longitude            float64\n",
      " 11  Georeference         object \n",
      "dtypes: float64(2), int64(2), object(8)\n",
      "memory usage: 200.5+ MB\n"
     ]
    }
   ],
   "source": [
    "df.info()"
   ]
  },
  {
   "cell_type": "code",
   "execution_count": 5,
   "id": "63a4fc6f",
   "metadata": {},
   "outputs": [
    {
     "data": {
      "text/plain": [
       "transit_timestamp      0\n",
       "transit_mode           0\n",
       "station_complex_id     0\n",
       "station_complex        0\n",
       "borough                0\n",
       "payment_method         0\n",
       "fare_class_category    0\n",
       "ridership              0\n",
       "transfers              0\n",
       "latitude               0\n",
       "longitude              0\n",
       "Georeference           0\n",
       "dtype: int64"
      ]
     },
     "execution_count": 5,
     "metadata": {},
     "output_type": "execute_result"
    }
   ],
   "source": [
    "df.isnull().sum()"
   ]
  },
  {
   "cell_type": "code",
   "execution_count": 6,
   "id": "7c69ebf5",
   "metadata": {},
   "outputs": [
    {
     "data": {
      "text/plain": [
       "0"
      ]
     },
     "execution_count": 6,
     "metadata": {},
     "output_type": "execute_result"
    }
   ],
   "source": [
    "df.duplicated().sum()"
   ]
  },
  {
   "cell_type": "code",
   "execution_count": 7,
   "id": "3317c65b",
   "metadata": {},
   "outputs": [
    {
     "data": {
      "text/plain": [
       "Index(['transit_timestamp', 'transit_mode', 'station_complex_id',\n",
       "       'station_complex', 'borough', 'payment_method', 'fare_class_category',\n",
       "       'ridership', 'transfers', 'latitude', 'longitude', 'Georeference'],\n",
       "      dtype='object')"
      ]
     },
     "execution_count": 7,
     "metadata": {},
     "output_type": "execute_result"
    }
   ],
   "source": [
    "df.columns"
   ]
  },
  {
   "cell_type": "code",
   "execution_count": 8,
   "id": "c62156f2",
   "metadata": {},
   "outputs": [],
   "source": [
    "df.columns=df.columns.str.strip()"
   ]
  },
  {
   "cell_type": "code",
   "execution_count": 9,
   "id": "ae94acd4",
   "metadata": {},
   "outputs": [
    {
     "data": {
      "text/plain": [
       "(2190360, 12)"
      ]
     },
     "execution_count": 9,
     "metadata": {},
     "output_type": "execute_result"
    }
   ],
   "source": [
    "df.shape"
   ]
  },
  {
   "cell_type": "code",
   "execution_count": 10,
   "id": "c11947c8",
   "metadata": {},
   "outputs": [],
   "source": [
    "df['transit_timestamp'] = pd.to_datetime(df['transit_timestamp'], format='%m/%d/%Y %I:%M:%S %p')"
   ]
  },
  {
   "cell_type": "code",
   "execution_count": 11,
   "id": "419ce6ea",
   "metadata": {},
   "outputs": [
    {
     "name": "stdout",
     "output_type": "stream",
     "text": [
      "<class 'pandas.core.frame.DataFrame'>\n",
      "RangeIndex: 2190360 entries, 0 to 2190359\n",
      "Data columns (total 12 columns):\n",
      " #   Column               Dtype         \n",
      "---  ------               -----         \n",
      " 0   transit_timestamp    datetime64[ns]\n",
      " 1   transit_mode         object        \n",
      " 2   station_complex_id   object        \n",
      " 3   station_complex      object        \n",
      " 4   borough              object        \n",
      " 5   payment_method       object        \n",
      " 6   fare_class_category  object        \n",
      " 7   ridership            int64         \n",
      " 8   transfers            int64         \n",
      " 9   latitude             float64       \n",
      " 10  longitude            float64       \n",
      " 11  Georeference         object        \n",
      "dtypes: datetime64[ns](1), float64(2), int64(2), object(7)\n",
      "memory usage: 200.5+ MB\n"
     ]
    }
   ],
   "source": [
    "df.info()"
   ]
  },
  {
   "cell_type": "code",
   "execution_count": 12,
   "id": "6cfeb331",
   "metadata": {},
   "outputs": [
    {
     "data": {
      "text/html": [
       "<div>\n",
       "<style scoped>\n",
       "    .dataframe tbody tr th:only-of-type {\n",
       "        vertical-align: middle;\n",
       "    }\n",
       "\n",
       "    .dataframe tbody tr th {\n",
       "        vertical-align: top;\n",
       "    }\n",
       "\n",
       "    .dataframe thead th {\n",
       "        text-align: right;\n",
       "    }\n",
       "</style>\n",
       "<table border=\"1\" class=\"dataframe\">\n",
       "  <thead>\n",
       "    <tr style=\"text-align: right;\">\n",
       "      <th></th>\n",
       "      <th>transit_timestamp</th>\n",
       "      <th>transit_mode</th>\n",
       "      <th>station_complex_id</th>\n",
       "      <th>station_complex</th>\n",
       "      <th>borough</th>\n",
       "      <th>payment_method</th>\n",
       "      <th>fare_class_category</th>\n",
       "      <th>ridership</th>\n",
       "      <th>transfers</th>\n",
       "      <th>latitude</th>\n",
       "      <th>longitude</th>\n",
       "      <th>Georeference</th>\n",
       "    </tr>\n",
       "  </thead>\n",
       "  <tbody>\n",
       "    <tr>\n",
       "      <th>0</th>\n",
       "      <td>2023-05-01 01:00:00</td>\n",
       "      <td>subway</td>\n",
       "      <td>52</td>\n",
       "      <td>Avenue U (Q)</td>\n",
       "      <td>Brooklyn</td>\n",
       "      <td>metrocard</td>\n",
       "      <td>Metrocard - Unlimited 30-Day</td>\n",
       "      <td>2</td>\n",
       "      <td>0</td>\n",
       "      <td>40.599300</td>\n",
       "      <td>-73.955933</td>\n",
       "      <td>POINT (-73.9559326171875 40.599300384521484)</td>\n",
       "    </tr>\n",
       "    <tr>\n",
       "      <th>1</th>\n",
       "      <td>2023-05-01 01:00:00</td>\n",
       "      <td>subway</td>\n",
       "      <td>52</td>\n",
       "      <td>Avenue U (Q)</td>\n",
       "      <td>Brooklyn</td>\n",
       "      <td>omny</td>\n",
       "      <td>OMNY - Full Fare</td>\n",
       "      <td>3</td>\n",
       "      <td>0</td>\n",
       "      <td>40.599300</td>\n",
       "      <td>-73.955933</td>\n",
       "      <td>POINT (-73.9559326171875 40.599300384521484)</td>\n",
       "    </tr>\n",
       "    <tr>\n",
       "      <th>2</th>\n",
       "      <td>2023-05-01 01:00:00</td>\n",
       "      <td>subway</td>\n",
       "      <td>52</td>\n",
       "      <td>Avenue U (Q)</td>\n",
       "      <td>Brooklyn</td>\n",
       "      <td>metrocard</td>\n",
       "      <td>Metrocard - Unlimited 7-Day</td>\n",
       "      <td>1</td>\n",
       "      <td>0</td>\n",
       "      <td>40.599300</td>\n",
       "      <td>-73.955933</td>\n",
       "      <td>POINT (-73.9559326171875 40.599300384521484)</td>\n",
       "    </tr>\n",
       "    <tr>\n",
       "      <th>3</th>\n",
       "      <td>2023-05-01 01:00:00</td>\n",
       "      <td>subway</td>\n",
       "      <td>53</td>\n",
       "      <td>Neck Rd (Q)</td>\n",
       "      <td>Brooklyn</td>\n",
       "      <td>metrocard</td>\n",
       "      <td>Metrocard - Full Fare</td>\n",
       "      <td>1</td>\n",
       "      <td>0</td>\n",
       "      <td>40.595245</td>\n",
       "      <td>-73.955162</td>\n",
       "      <td>POINT (-73.95516204833984 40.595245361328125)</td>\n",
       "    </tr>\n",
       "    <tr>\n",
       "      <th>4</th>\n",
       "      <td>2023-05-01 01:00:00</td>\n",
       "      <td>subway</td>\n",
       "      <td>53</td>\n",
       "      <td>Neck Rd (Q)</td>\n",
       "      <td>Brooklyn</td>\n",
       "      <td>metrocard</td>\n",
       "      <td>Metrocard - Students</td>\n",
       "      <td>1</td>\n",
       "      <td>0</td>\n",
       "      <td>40.595245</td>\n",
       "      <td>-73.955162</td>\n",
       "      <td>POINT (-73.95516204833984 40.595245361328125)</td>\n",
       "    </tr>\n",
       "  </tbody>\n",
       "</table>\n",
       "</div>"
      ],
      "text/plain": [
       "    transit_timestamp transit_mode station_complex_id station_complex  \\\n",
       "0 2023-05-01 01:00:00       subway                 52    Avenue U (Q)   \n",
       "1 2023-05-01 01:00:00       subway                 52    Avenue U (Q)   \n",
       "2 2023-05-01 01:00:00       subway                 52    Avenue U (Q)   \n",
       "3 2023-05-01 01:00:00       subway                 53     Neck Rd (Q)   \n",
       "4 2023-05-01 01:00:00       subway                 53     Neck Rd (Q)   \n",
       "\n",
       "    borough payment_method           fare_class_category  ridership  \\\n",
       "0  Brooklyn      metrocard  Metrocard - Unlimited 30-Day          2   \n",
       "1  Brooklyn           omny              OMNY - Full Fare          3   \n",
       "2  Brooklyn      metrocard   Metrocard - Unlimited 7-Day          1   \n",
       "3  Brooklyn      metrocard         Metrocard - Full Fare          1   \n",
       "4  Brooklyn      metrocard          Metrocard - Students          1   \n",
       "\n",
       "   transfers   latitude  longitude  \\\n",
       "0          0  40.599300 -73.955933   \n",
       "1          0  40.599300 -73.955933   \n",
       "2          0  40.599300 -73.955933   \n",
       "3          0  40.595245 -73.955162   \n",
       "4          0  40.595245 -73.955162   \n",
       "\n",
       "                                    Georeference  \n",
       "0   POINT (-73.9559326171875 40.599300384521484)  \n",
       "1   POINT (-73.9559326171875 40.599300384521484)  \n",
       "2   POINT (-73.9559326171875 40.599300384521484)  \n",
       "3  POINT (-73.95516204833984 40.595245361328125)  \n",
       "4  POINT (-73.95516204833984 40.595245361328125)  "
      ]
     },
     "execution_count": 12,
     "metadata": {},
     "output_type": "execute_result"
    }
   ],
   "source": [
    "df.head()"
   ]
  },
  {
   "cell_type": "code",
   "execution_count": 13,
   "id": "d007c2ad",
   "metadata": {},
   "outputs": [],
   "source": [
    "df.rename(columns={'transit_timestamp': 'timestamp'}, inplace=True)"
   ]
  },
  {
   "cell_type": "code",
   "execution_count": 14,
   "id": "e6925865",
   "metadata": {},
   "outputs": [
    {
     "data": {
      "text/plain": [
       "array(['subway', 'tram', 'staten_island_railway'], dtype=object)"
      ]
     },
     "execution_count": 14,
     "metadata": {},
     "output_type": "execute_result"
    }
   ],
   "source": [
    "df['transit_mode'].unique()"
   ]
  },
  {
   "cell_type": "code",
   "execution_count": 15,
   "id": "76d6e26b",
   "metadata": {},
   "outputs": [],
   "source": [
    "tram=df[df['transit_mode'] == 'tram']"
   ]
  },
  {
   "cell_type": "code",
   "execution_count": 16,
   "id": "1bdc8aed",
   "metadata": {},
   "outputs": [
    {
     "data": {
      "text/html": [
       "<div>\n",
       "<style scoped>\n",
       "    .dataframe tbody tr th:only-of-type {\n",
       "        vertical-align: middle;\n",
       "    }\n",
       "\n",
       "    .dataframe tbody tr th {\n",
       "        vertical-align: top;\n",
       "    }\n",
       "\n",
       "    .dataframe thead th {\n",
       "        text-align: right;\n",
       "    }\n",
       "</style>\n",
       "<table border=\"1\" class=\"dataframe\">\n",
       "  <thead>\n",
       "    <tr style=\"text-align: right;\">\n",
       "      <th></th>\n",
       "      <th>timestamp</th>\n",
       "      <th>transit_mode</th>\n",
       "      <th>station_complex_id</th>\n",
       "      <th>station_complex</th>\n",
       "      <th>borough</th>\n",
       "      <th>payment_method</th>\n",
       "      <th>fare_class_category</th>\n",
       "      <th>ridership</th>\n",
       "      <th>transfers</th>\n",
       "      <th>latitude</th>\n",
       "      <th>longitude</th>\n",
       "      <th>Georeference</th>\n",
       "    </tr>\n",
       "  </thead>\n",
       "  <tbody>\n",
       "    <tr>\n",
       "      <th>327</th>\n",
       "      <td>2023-05-01 01:00:00</td>\n",
       "      <td>tram</td>\n",
       "      <td>TRAM1</td>\n",
       "      <td>RI Tramway (Manhattan)</td>\n",
       "      <td>Manhattan</td>\n",
       "      <td>metrocard</td>\n",
       "      <td>Metrocard - Full Fare</td>\n",
       "      <td>1</td>\n",
       "      <td>0</td>\n",
       "      <td>40.761338</td>\n",
       "      <td>-73.964155</td>\n",
       "      <td>POINT (-73.964155 40.761338)</td>\n",
       "    </tr>\n",
       "    <tr>\n",
       "      <th>329</th>\n",
       "      <td>2023-05-01 01:00:00</td>\n",
       "      <td>tram</td>\n",
       "      <td>TRAM2</td>\n",
       "      <td>RI Tramway (Roosevelt)</td>\n",
       "      <td>Manhattan</td>\n",
       "      <td>metrocard</td>\n",
       "      <td>Metrocard - Unlimited 7-Day</td>\n",
       "      <td>1</td>\n",
       "      <td>0</td>\n",
       "      <td>40.757340</td>\n",
       "      <td>-73.954114</td>\n",
       "      <td>POINT (-73.954114 40.75734)</td>\n",
       "    </tr>\n",
       "    <tr>\n",
       "      <th>7491</th>\n",
       "      <td>2023-05-01 05:00:00</td>\n",
       "      <td>tram</td>\n",
       "      <td>TRAM1</td>\n",
       "      <td>RI Tramway (Manhattan)</td>\n",
       "      <td>Manhattan</td>\n",
       "      <td>metrocard</td>\n",
       "      <td>Metrocard - Full Fare</td>\n",
       "      <td>2</td>\n",
       "      <td>0</td>\n",
       "      <td>40.761338</td>\n",
       "      <td>-73.964155</td>\n",
       "      <td>POINT (-73.964155 40.761338)</td>\n",
       "    </tr>\n",
       "    <tr>\n",
       "      <th>7496</th>\n",
       "      <td>2023-05-01 05:00:00</td>\n",
       "      <td>tram</td>\n",
       "      <td>TRAM2</td>\n",
       "      <td>RI Tramway (Roosevelt)</td>\n",
       "      <td>Manhattan</td>\n",
       "      <td>metrocard</td>\n",
       "      <td>Metrocard - Full Fare</td>\n",
       "      <td>5</td>\n",
       "      <td>0</td>\n",
       "      <td>40.757340</td>\n",
       "      <td>-73.954114</td>\n",
       "      <td>POINT (-73.954114 40.75734)</td>\n",
       "    </tr>\n",
       "    <tr>\n",
       "      <th>7497</th>\n",
       "      <td>2023-05-01 05:00:00</td>\n",
       "      <td>tram</td>\n",
       "      <td>TRAM2</td>\n",
       "      <td>RI Tramway (Roosevelt)</td>\n",
       "      <td>Manhattan</td>\n",
       "      <td>metrocard</td>\n",
       "      <td>Metrocard - Other</td>\n",
       "      <td>2</td>\n",
       "      <td>0</td>\n",
       "      <td>40.757340</td>\n",
       "      <td>-73.954114</td>\n",
       "      <td>POINT (-73.954114 40.75734)</td>\n",
       "    </tr>\n",
       "  </tbody>\n",
       "</table>\n",
       "</div>"
      ],
      "text/plain": [
       "               timestamp transit_mode station_complex_id  \\\n",
       "327  2023-05-01 01:00:00         tram              TRAM1   \n",
       "329  2023-05-01 01:00:00         tram              TRAM2   \n",
       "7491 2023-05-01 05:00:00         tram              TRAM1   \n",
       "7496 2023-05-01 05:00:00         tram              TRAM2   \n",
       "7497 2023-05-01 05:00:00         tram              TRAM2   \n",
       "\n",
       "             station_complex    borough payment_method  \\\n",
       "327   RI Tramway (Manhattan)  Manhattan      metrocard   \n",
       "329   RI Tramway (Roosevelt)  Manhattan      metrocard   \n",
       "7491  RI Tramway (Manhattan)  Manhattan      metrocard   \n",
       "7496  RI Tramway (Roosevelt)  Manhattan      metrocard   \n",
       "7497  RI Tramway (Roosevelt)  Manhattan      metrocard   \n",
       "\n",
       "              fare_class_category  ridership  transfers   latitude  longitude  \\\n",
       "327         Metrocard - Full Fare          1          0  40.761338 -73.964155   \n",
       "329   Metrocard - Unlimited 7-Day          1          0  40.757340 -73.954114   \n",
       "7491        Metrocard - Full Fare          2          0  40.761338 -73.964155   \n",
       "7496        Metrocard - Full Fare          5          0  40.757340 -73.954114   \n",
       "7497            Metrocard - Other          2          0  40.757340 -73.954114   \n",
       "\n",
       "                      Georeference  \n",
       "327   POINT (-73.964155 40.761338)  \n",
       "329    POINT (-73.954114 40.75734)  \n",
       "7491  POINT (-73.964155 40.761338)  \n",
       "7496   POINT (-73.954114 40.75734)  \n",
       "7497   POINT (-73.954114 40.75734)  "
      ]
     },
     "execution_count": 16,
     "metadata": {},
     "output_type": "execute_result"
    }
   ],
   "source": [
    "tram.head()"
   ]
  },
  {
   "cell_type": "code",
   "execution_count": 17,
   "id": "dc7d7519",
   "metadata": {},
   "outputs": [],
   "source": [
    "# if we want to know which metro stations are the most crowded, then we should filter transit_mode=subway"
   ]
  },
  {
   "cell_type": "code",
   "execution_count": 18,
   "id": "901353dd",
   "metadata": {},
   "outputs": [
    {
     "data": {
      "text/plain": [
       "subway                   2173790\n",
       "staten_island_railway       8909\n",
       "tram                        7661\n",
       "Name: transit_mode, dtype: int64"
      ]
     },
     "execution_count": 18,
     "metadata": {},
     "output_type": "execute_result"
    }
   ],
   "source": [
    "df['transit_mode'].value_counts()"
   ]
  },
  {
   "cell_type": "code",
   "execution_count": 19,
   "id": "17d5e623",
   "metadata": {},
   "outputs": [],
   "source": [
    "df=df[df['transit_mode'] == 'subway']"
   ]
  },
  {
   "cell_type": "code",
   "execution_count": 20,
   "id": "516b9ef5",
   "metadata": {},
   "outputs": [],
   "source": [
    "# renaming some categories could make it clearer to understand"
   ]
  },
  {
   "cell_type": "code",
   "execution_count": 21,
   "id": "13269fa4",
   "metadata": {},
   "outputs": [],
   "source": [
    "df.rename(columns={'transit_mode': 'transportation',\n",
    "                   'station_complex_id': 'station_id',\n",
    "                   'station_complex': 'station',\n",
    "                   'fare_class_category': 'fare_class'},\n",
    "          inplace=True)"
   ]
  },
  {
   "cell_type": "code",
   "execution_count": 22,
   "id": "2be239b0",
   "metadata": {},
   "outputs": [],
   "source": [
    "df.rename(columns={'borough': 'district'},inplace=True)"
   ]
  },
  {
   "cell_type": "code",
   "execution_count": 23,
   "id": "8f6db385",
   "metadata": {},
   "outputs": [
    {
     "data": {
      "text/html": [
       "<div>\n",
       "<style scoped>\n",
       "    .dataframe tbody tr th:only-of-type {\n",
       "        vertical-align: middle;\n",
       "    }\n",
       "\n",
       "    .dataframe tbody tr th {\n",
       "        vertical-align: top;\n",
       "    }\n",
       "\n",
       "    .dataframe thead th {\n",
       "        text-align: right;\n",
       "    }\n",
       "</style>\n",
       "<table border=\"1\" class=\"dataframe\">\n",
       "  <thead>\n",
       "    <tr style=\"text-align: right;\">\n",
       "      <th></th>\n",
       "      <th>timestamp</th>\n",
       "      <th>transportation</th>\n",
       "      <th>station_id</th>\n",
       "      <th>station</th>\n",
       "      <th>district</th>\n",
       "      <th>payment_method</th>\n",
       "      <th>fare_class</th>\n",
       "      <th>ridership</th>\n",
       "      <th>transfers</th>\n",
       "      <th>latitude</th>\n",
       "      <th>longitude</th>\n",
       "      <th>Georeference</th>\n",
       "    </tr>\n",
       "  </thead>\n",
       "  <tbody>\n",
       "    <tr>\n",
       "      <th>0</th>\n",
       "      <td>2023-05-01 01:00:00</td>\n",
       "      <td>subway</td>\n",
       "      <td>52</td>\n",
       "      <td>Avenue U (Q)</td>\n",
       "      <td>Brooklyn</td>\n",
       "      <td>metrocard</td>\n",
       "      <td>Metrocard - Unlimited 30-Day</td>\n",
       "      <td>2</td>\n",
       "      <td>0</td>\n",
       "      <td>40.599300</td>\n",
       "      <td>-73.955933</td>\n",
       "      <td>POINT (-73.9559326171875 40.599300384521484)</td>\n",
       "    </tr>\n",
       "    <tr>\n",
       "      <th>1</th>\n",
       "      <td>2023-05-01 01:00:00</td>\n",
       "      <td>subway</td>\n",
       "      <td>52</td>\n",
       "      <td>Avenue U (Q)</td>\n",
       "      <td>Brooklyn</td>\n",
       "      <td>omny</td>\n",
       "      <td>OMNY - Full Fare</td>\n",
       "      <td>3</td>\n",
       "      <td>0</td>\n",
       "      <td>40.599300</td>\n",
       "      <td>-73.955933</td>\n",
       "      <td>POINT (-73.9559326171875 40.599300384521484)</td>\n",
       "    </tr>\n",
       "    <tr>\n",
       "      <th>2</th>\n",
       "      <td>2023-05-01 01:00:00</td>\n",
       "      <td>subway</td>\n",
       "      <td>52</td>\n",
       "      <td>Avenue U (Q)</td>\n",
       "      <td>Brooklyn</td>\n",
       "      <td>metrocard</td>\n",
       "      <td>Metrocard - Unlimited 7-Day</td>\n",
       "      <td>1</td>\n",
       "      <td>0</td>\n",
       "      <td>40.599300</td>\n",
       "      <td>-73.955933</td>\n",
       "      <td>POINT (-73.9559326171875 40.599300384521484)</td>\n",
       "    </tr>\n",
       "    <tr>\n",
       "      <th>3</th>\n",
       "      <td>2023-05-01 01:00:00</td>\n",
       "      <td>subway</td>\n",
       "      <td>53</td>\n",
       "      <td>Neck Rd (Q)</td>\n",
       "      <td>Brooklyn</td>\n",
       "      <td>metrocard</td>\n",
       "      <td>Metrocard - Full Fare</td>\n",
       "      <td>1</td>\n",
       "      <td>0</td>\n",
       "      <td>40.595245</td>\n",
       "      <td>-73.955162</td>\n",
       "      <td>POINT (-73.95516204833984 40.595245361328125)</td>\n",
       "    </tr>\n",
       "    <tr>\n",
       "      <th>4</th>\n",
       "      <td>2023-05-01 01:00:00</td>\n",
       "      <td>subway</td>\n",
       "      <td>53</td>\n",
       "      <td>Neck Rd (Q)</td>\n",
       "      <td>Brooklyn</td>\n",
       "      <td>metrocard</td>\n",
       "      <td>Metrocard - Students</td>\n",
       "      <td>1</td>\n",
       "      <td>0</td>\n",
       "      <td>40.595245</td>\n",
       "      <td>-73.955162</td>\n",
       "      <td>POINT (-73.95516204833984 40.595245361328125)</td>\n",
       "    </tr>\n",
       "  </tbody>\n",
       "</table>\n",
       "</div>"
      ],
      "text/plain": [
       "            timestamp transportation station_id       station  district  \\\n",
       "0 2023-05-01 01:00:00         subway         52  Avenue U (Q)  Brooklyn   \n",
       "1 2023-05-01 01:00:00         subway         52  Avenue U (Q)  Brooklyn   \n",
       "2 2023-05-01 01:00:00         subway         52  Avenue U (Q)  Brooklyn   \n",
       "3 2023-05-01 01:00:00         subway         53   Neck Rd (Q)  Brooklyn   \n",
       "4 2023-05-01 01:00:00         subway         53   Neck Rd (Q)  Brooklyn   \n",
       "\n",
       "  payment_method                    fare_class  ridership  transfers  \\\n",
       "0      metrocard  Metrocard - Unlimited 30-Day          2          0   \n",
       "1           omny              OMNY - Full Fare          3          0   \n",
       "2      metrocard   Metrocard - Unlimited 7-Day          1          0   \n",
       "3      metrocard         Metrocard - Full Fare          1          0   \n",
       "4      metrocard          Metrocard - Students          1          0   \n",
       "\n",
       "    latitude  longitude                                   Georeference  \n",
       "0  40.599300 -73.955933   POINT (-73.9559326171875 40.599300384521484)  \n",
       "1  40.599300 -73.955933   POINT (-73.9559326171875 40.599300384521484)  \n",
       "2  40.599300 -73.955933   POINT (-73.9559326171875 40.599300384521484)  \n",
       "3  40.595245 -73.955162  POINT (-73.95516204833984 40.595245361328125)  \n",
       "4  40.595245 -73.955162  POINT (-73.95516204833984 40.595245361328125)  "
      ]
     },
     "execution_count": 23,
     "metadata": {},
     "output_type": "execute_result"
    }
   ],
   "source": [
    "df.head()"
   ]
  },
  {
   "cell_type": "code",
   "execution_count": 24,
   "id": "dfb383b0",
   "metadata": {},
   "outputs": [],
   "source": [
    "# some columns are not necessary for us from now on, so we can drop them to work more efficiently"
   ]
  },
  {
   "cell_type": "code",
   "execution_count": 25,
   "id": "7dc4fac1",
   "metadata": {},
   "outputs": [],
   "source": [
    "df = df.drop(['payment_method', 'fare_class','transportation'], axis=1)"
   ]
  },
  {
   "cell_type": "code",
   "execution_count": 26,
   "id": "8af4002c",
   "metadata": {},
   "outputs": [],
   "source": [
    "df = df.drop(['transfers'], axis=1) # total number of passengers have already been included in the category of ridership"
   ]
  },
  {
   "cell_type": "code",
   "execution_count": 27,
   "id": "9effceb5",
   "metadata": {},
   "outputs": [],
   "source": [
    "# to determine which days of the week are busy at the metro stations, we can covert the date and time columns into days of the week"
   ]
  },
  {
   "cell_type": "code",
   "execution_count": 28,
   "id": "4f79a8ec",
   "metadata": {},
   "outputs": [
    {
     "data": {
      "text/html": [
       "<div>\n",
       "<style scoped>\n",
       "    .dataframe tbody tr th:only-of-type {\n",
       "        vertical-align: middle;\n",
       "    }\n",
       "\n",
       "    .dataframe tbody tr th {\n",
       "        vertical-align: top;\n",
       "    }\n",
       "\n",
       "    .dataframe thead th {\n",
       "        text-align: right;\n",
       "    }\n",
       "</style>\n",
       "<table border=\"1\" class=\"dataframe\">\n",
       "  <thead>\n",
       "    <tr style=\"text-align: right;\">\n",
       "      <th></th>\n",
       "      <th>timestamp</th>\n",
       "      <th>station_id</th>\n",
       "      <th>station</th>\n",
       "      <th>district</th>\n",
       "      <th>ridership</th>\n",
       "      <th>latitude</th>\n",
       "      <th>longitude</th>\n",
       "      <th>Georeference</th>\n",
       "      <th>weekdays</th>\n",
       "    </tr>\n",
       "  </thead>\n",
       "  <tbody>\n",
       "    <tr>\n",
       "      <th>0</th>\n",
       "      <td>2023-05-01 01:00:00</td>\n",
       "      <td>52</td>\n",
       "      <td>Avenue U (Q)</td>\n",
       "      <td>Brooklyn</td>\n",
       "      <td>2</td>\n",
       "      <td>40.599300</td>\n",
       "      <td>-73.955933</td>\n",
       "      <td>POINT (-73.9559326171875 40.599300384521484)</td>\n",
       "      <td>Monday</td>\n",
       "    </tr>\n",
       "    <tr>\n",
       "      <th>1</th>\n",
       "      <td>2023-05-01 01:00:00</td>\n",
       "      <td>52</td>\n",
       "      <td>Avenue U (Q)</td>\n",
       "      <td>Brooklyn</td>\n",
       "      <td>3</td>\n",
       "      <td>40.599300</td>\n",
       "      <td>-73.955933</td>\n",
       "      <td>POINT (-73.9559326171875 40.599300384521484)</td>\n",
       "      <td>Monday</td>\n",
       "    </tr>\n",
       "    <tr>\n",
       "      <th>2</th>\n",
       "      <td>2023-05-01 01:00:00</td>\n",
       "      <td>52</td>\n",
       "      <td>Avenue U (Q)</td>\n",
       "      <td>Brooklyn</td>\n",
       "      <td>1</td>\n",
       "      <td>40.599300</td>\n",
       "      <td>-73.955933</td>\n",
       "      <td>POINT (-73.9559326171875 40.599300384521484)</td>\n",
       "      <td>Monday</td>\n",
       "    </tr>\n",
       "    <tr>\n",
       "      <th>3</th>\n",
       "      <td>2023-05-01 01:00:00</td>\n",
       "      <td>53</td>\n",
       "      <td>Neck Rd (Q)</td>\n",
       "      <td>Brooklyn</td>\n",
       "      <td>1</td>\n",
       "      <td>40.595245</td>\n",
       "      <td>-73.955162</td>\n",
       "      <td>POINT (-73.95516204833984 40.595245361328125)</td>\n",
       "      <td>Monday</td>\n",
       "    </tr>\n",
       "    <tr>\n",
       "      <th>4</th>\n",
       "      <td>2023-05-01 01:00:00</td>\n",
       "      <td>53</td>\n",
       "      <td>Neck Rd (Q)</td>\n",
       "      <td>Brooklyn</td>\n",
       "      <td>1</td>\n",
       "      <td>40.595245</td>\n",
       "      <td>-73.955162</td>\n",
       "      <td>POINT (-73.95516204833984 40.595245361328125)</td>\n",
       "      <td>Monday</td>\n",
       "    </tr>\n",
       "  </tbody>\n",
       "</table>\n",
       "</div>"
      ],
      "text/plain": [
       "            timestamp station_id       station  district  ridership  \\\n",
       "0 2023-05-01 01:00:00         52  Avenue U (Q)  Brooklyn          2   \n",
       "1 2023-05-01 01:00:00         52  Avenue U (Q)  Brooklyn          3   \n",
       "2 2023-05-01 01:00:00         52  Avenue U (Q)  Brooklyn          1   \n",
       "3 2023-05-01 01:00:00         53   Neck Rd (Q)  Brooklyn          1   \n",
       "4 2023-05-01 01:00:00         53   Neck Rd (Q)  Brooklyn          1   \n",
       "\n",
       "    latitude  longitude                                   Georeference  \\\n",
       "0  40.599300 -73.955933   POINT (-73.9559326171875 40.599300384521484)   \n",
       "1  40.599300 -73.955933   POINT (-73.9559326171875 40.599300384521484)   \n",
       "2  40.599300 -73.955933   POINT (-73.9559326171875 40.599300384521484)   \n",
       "3  40.595245 -73.955162  POINT (-73.95516204833984 40.595245361328125)   \n",
       "4  40.595245 -73.955162  POINT (-73.95516204833984 40.595245361328125)   \n",
       "\n",
       "  weekdays  \n",
       "0   Monday  \n",
       "1   Monday  \n",
       "2   Monday  \n",
       "3   Monday  \n",
       "4   Monday  "
      ]
     },
     "execution_count": 28,
     "metadata": {},
     "output_type": "execute_result"
    }
   ],
   "source": [
    "df['weekdays'] = pd.to_datetime(df['timestamp']).dt.day_name()\n",
    "df.head()"
   ]
  },
  {
   "cell_type": "code",
   "execution_count": 29,
   "id": "f0d73b33",
   "metadata": {},
   "outputs": [
    {
     "data": {
      "text/html": [
       "<div>\n",
       "<style scoped>\n",
       "    .dataframe tbody tr th:only-of-type {\n",
       "        vertical-align: middle;\n",
       "    }\n",
       "\n",
       "    .dataframe tbody tr th {\n",
       "        vertical-align: top;\n",
       "    }\n",
       "\n",
       "    .dataframe thead th {\n",
       "        text-align: right;\n",
       "    }\n",
       "</style>\n",
       "<table border=\"1\" class=\"dataframe\">\n",
       "  <thead>\n",
       "    <tr style=\"text-align: right;\">\n",
       "      <th></th>\n",
       "      <th>timestamp</th>\n",
       "      <th>station_id</th>\n",
       "      <th>station</th>\n",
       "      <th>district</th>\n",
       "      <th>ridership</th>\n",
       "      <th>latitude</th>\n",
       "      <th>longitude</th>\n",
       "      <th>Georeference</th>\n",
       "      <th>weekdays</th>\n",
       "    </tr>\n",
       "  </thead>\n",
       "  <tbody>\n",
       "    <tr>\n",
       "      <th>1251363</th>\n",
       "      <td>2023-05-18 13:00:00</td>\n",
       "      <td>351</td>\n",
       "      <td>Van Siclen Av (3)</td>\n",
       "      <td>Brooklyn</td>\n",
       "      <td>21</td>\n",
       "      <td>40.665447</td>\n",
       "      <td>-73.889397</td>\n",
       "      <td>POINT (-73.88939666748047 40.66544723510742)</td>\n",
       "      <td>Thursday</td>\n",
       "    </tr>\n",
       "    <tr>\n",
       "      <th>531362</th>\n",
       "      <td>2023-05-08 13:00:00</td>\n",
       "      <td>282</td>\n",
       "      <td>21 St (G)</td>\n",
       "      <td>Queens</td>\n",
       "      <td>3</td>\n",
       "      <td>40.744064</td>\n",
       "      <td>-73.949722</td>\n",
       "      <td>POINT (-73.94972229003906 40.74406433105469)</td>\n",
       "      <td>Monday</td>\n",
       "    </tr>\n",
       "    <tr>\n",
       "      <th>952503</th>\n",
       "      <td>2023-05-14 10:00:00</td>\n",
       "      <td>373</td>\n",
       "      <td>E 149 St (6)</td>\n",
       "      <td>Bronx</td>\n",
       "      <td>5</td>\n",
       "      <td>40.812119</td>\n",
       "      <td>-73.904099</td>\n",
       "      <td>POINT (-73.90409851074219 40.81211853027344)</td>\n",
       "      <td>Sunday</td>\n",
       "    </tr>\n",
       "    <tr>\n",
       "      <th>198303</th>\n",
       "      <td>2023-05-03 17:00:00</td>\n",
       "      <td>202</td>\n",
       "      <td>Beach 105 St (A,S)</td>\n",
       "      <td>Queens</td>\n",
       "      <td>6</td>\n",
       "      <td>40.583210</td>\n",
       "      <td>-73.827560</td>\n",
       "      <td>POINT (-73.82756042480469 40.58320999145508)</td>\n",
       "      <td>Wednesday</td>\n",
       "    </tr>\n",
       "    <tr>\n",
       "      <th>184321</th>\n",
       "      <td>2023-05-03 13:00:00</td>\n",
       "      <td>250</td>\n",
       "      <td>Kings Hwy (F)</td>\n",
       "      <td>Brooklyn</td>\n",
       "      <td>14</td>\n",
       "      <td>40.603218</td>\n",
       "      <td>-73.972359</td>\n",
       "      <td>POINT (-73.97235870361328 40.60321807861328)</td>\n",
       "      <td>Wednesday</td>\n",
       "    </tr>\n",
       "  </tbody>\n",
       "</table>\n",
       "</div>"
      ],
      "text/plain": [
       "                  timestamp station_id             station  district  \\\n",
       "1251363 2023-05-18 13:00:00        351   Van Siclen Av (3)  Brooklyn   \n",
       "531362  2023-05-08 13:00:00        282           21 St (G)    Queens   \n",
       "952503  2023-05-14 10:00:00        373        E 149 St (6)     Bronx   \n",
       "198303  2023-05-03 17:00:00        202  Beach 105 St (A,S)    Queens   \n",
       "184321  2023-05-03 13:00:00        250       Kings Hwy (F)  Brooklyn   \n",
       "\n",
       "         ridership   latitude  longitude  \\\n",
       "1251363         21  40.665447 -73.889397   \n",
       "531362           3  40.744064 -73.949722   \n",
       "952503           5  40.812119 -73.904099   \n",
       "198303           6  40.583210 -73.827560   \n",
       "184321          14  40.603218 -73.972359   \n",
       "\n",
       "                                         Georeference   weekdays  \n",
       "1251363  POINT (-73.88939666748047 40.66544723510742)   Thursday  \n",
       "531362   POINT (-73.94972229003906 40.74406433105469)     Monday  \n",
       "952503   POINT (-73.90409851074219 40.81211853027344)     Sunday  \n",
       "198303   POINT (-73.82756042480469 40.58320999145508)  Wednesday  \n",
       "184321   POINT (-73.97235870361328 40.60321807861328)  Wednesday  "
      ]
     },
     "execution_count": 29,
     "metadata": {},
     "output_type": "execute_result"
    }
   ],
   "source": [
    "df.sample(5)"
   ]
  },
  {
   "cell_type": "code",
   "execution_count": 30,
   "id": "2c437fb9",
   "metadata": {},
   "outputs": [],
   "source": [
    "# now let's find out if there are any outliers"
   ]
  },
  {
   "cell_type": "code",
   "execution_count": 31,
   "id": "bc2f4a41",
   "metadata": {},
   "outputs": [
    {
     "data": {
      "text/plain": [
       "count    2.173790e+06\n",
       "mean     4.824936e+01\n",
       "std      1.528769e+02\n",
       "min      1.000000e+00\n",
       "25%      4.000000e+00\n",
       "50%      1.300000e+01\n",
       "75%      3.900000e+01\n",
       "max      1.030900e+04\n",
       "Name: ridership, dtype: float64"
      ]
     },
     "execution_count": 31,
     "metadata": {},
     "output_type": "execute_result"
    }
   ],
   "source": [
    "df['ridership'].describe()"
   ]
  },
  {
   "cell_type": "code",
   "execution_count": 32,
   "id": "4cbdb502",
   "metadata": {},
   "outputs": [
    {
     "data": {
      "image/png": "[encoded data removed]",
      "text/plain": [
       "<Figure size 640x480 with 1 Axes>"
      ]
     },
     "metadata": {},
     "output_type": "display_data"
    }
   ],
   "source": [
    "sns.boxplot(x=df['ridership'])\n",
    "plt.show()"
   ]
  },
  {
   "cell_type": "code",
   "execution_count": 33,
   "id": "18068264",
   "metadata": {},
   "outputs": [
    {
     "data": {
      "image/png": "[encoded data removed]",
      "text/plain": [
       "<Figure size 640x480 with 1 Axes>"
      ]
     },
     "metadata": {},
     "output_type": "display_data"
    }
   ],
   "source": [
    "\n",
    "plt.hist(df['ridership'], bins=20, color='purple', edgecolor='black')\n",
    "\n",
    "plt.title('Ridership Distribution')\n",
    "plt.xlabel('Ridership')\n",
    "plt.ylabel('Frequency')\n",
    "\n",
    "plt.show()"
   ]
  },
  {
   "cell_type": "code",
   "execution_count": 34,
   "id": "4d156497",
   "metadata": {},
   "outputs": [
    {
     "name": "stdout",
     "output_type": "stream",
     "text": [
      "110        227\n",
      "4670        98\n",
      "4674        95\n",
      "5650       118\n",
      "5778       120\n",
      "          ... \n",
      "2190165    112\n",
      "2190168    111\n",
      "2190169    105\n",
      "2190296    179\n",
      "2190317    108\n",
      "Name: ridership, Length: 247223, dtype: int64\n"
     ]
    }
   ],
   "source": [
    "Q1 = df['ridership'].quantile(0.25)\n",
    "Q3 = df['ridership'].quantile(0.75)\n",
    "IQR = Q3 - Q1\n",
    "\n",
    "lower_bound = Q1 - 1.5 * IQR\n",
    "upper_bound = Q3 + 1.5 * IQR\n",
    "\n",
    "# for outliers\n",
    "outliers_iqr = (df['ridership'] < lower_bound) | (df['ridership'] > upper_bound)\n",
    "print(df[outliers_iqr]['ridership'])"
   ]
  },
  {
   "cell_type": "code",
   "execution_count": 35,
   "id": "6c6984a4",
   "metadata": {},
   "outputs": [
    {
     "data": {
      "image/png": "[encoded data removed]",
      "text/plain": [
       "<Figure size 640x480 with 1 Axes>"
      ]
     },
     "metadata": {},
     "output_type": "display_data"
    }
   ],
   "source": [
    "plt.scatter(df.index, df['ridership'])\n",
    "plt.show()"
   ]
  },
  {
   "cell_type": "code",
   "execution_count": 36,
   "id": "0368b85c",
   "metadata": {},
   "outputs": [],
   "source": [
    "# it seems like there is no problem, so now we can find the busiest stations"
   ]
  },
  {
   "cell_type": "code",
   "execution_count": 37,
   "id": "d70eb74a",
   "metadata": {},
   "outputs": [
    {
     "data": {
      "text/html": [
       "<div>\n",
       "<style scoped>\n",
       "    .dataframe tbody tr th:only-of-type {\n",
       "        vertical-align: middle;\n",
       "    }\n",
       "\n",
       "    .dataframe tbody tr th {\n",
       "        vertical-align: top;\n",
       "    }\n",
       "\n",
       "    .dataframe thead th {\n",
       "        text-align: right;\n",
       "    }\n",
       "</style>\n",
       "<table border=\"1\" class=\"dataframe\">\n",
       "  <thead>\n",
       "    <tr style=\"text-align: right;\">\n",
       "      <th></th>\n",
       "      <th>timestamp</th>\n",
       "      <th>station_id</th>\n",
       "      <th>station</th>\n",
       "      <th>district</th>\n",
       "      <th>ridership</th>\n",
       "      <th>latitude</th>\n",
       "      <th>longitude</th>\n",
       "      <th>Georeference</th>\n",
       "      <th>weekdays</th>\n",
       "    </tr>\n",
       "  </thead>\n",
       "  <tbody>\n",
       "    <tr>\n",
       "      <th>0</th>\n",
       "      <td>2023-05-01 01:00:00</td>\n",
       "      <td>52</td>\n",
       "      <td>Avenue U (Q)</td>\n",
       "      <td>Brooklyn</td>\n",
       "      <td>2</td>\n",
       "      <td>40.599300</td>\n",
       "      <td>-73.955933</td>\n",
       "      <td>POINT (-73.9559326171875 40.599300384521484)</td>\n",
       "      <td>Monday</td>\n",
       "    </tr>\n",
       "    <tr>\n",
       "      <th>1</th>\n",
       "      <td>2023-05-01 01:00:00</td>\n",
       "      <td>52</td>\n",
       "      <td>Avenue U (Q)</td>\n",
       "      <td>Brooklyn</td>\n",
       "      <td>3</td>\n",
       "      <td>40.599300</td>\n",
       "      <td>-73.955933</td>\n",
       "      <td>POINT (-73.9559326171875 40.599300384521484)</td>\n",
       "      <td>Monday</td>\n",
       "    </tr>\n",
       "    <tr>\n",
       "      <th>2</th>\n",
       "      <td>2023-05-01 01:00:00</td>\n",
       "      <td>52</td>\n",
       "      <td>Avenue U (Q)</td>\n",
       "      <td>Brooklyn</td>\n",
       "      <td>1</td>\n",
       "      <td>40.599300</td>\n",
       "      <td>-73.955933</td>\n",
       "      <td>POINT (-73.9559326171875 40.599300384521484)</td>\n",
       "      <td>Monday</td>\n",
       "    </tr>\n",
       "    <tr>\n",
       "      <th>3</th>\n",
       "      <td>2023-05-01 01:00:00</td>\n",
       "      <td>53</td>\n",
       "      <td>Neck Rd (Q)</td>\n",
       "      <td>Brooklyn</td>\n",
       "      <td>1</td>\n",
       "      <td>40.595245</td>\n",
       "      <td>-73.955162</td>\n",
       "      <td>POINT (-73.95516204833984 40.595245361328125)</td>\n",
       "      <td>Monday</td>\n",
       "    </tr>\n",
       "    <tr>\n",
       "      <th>4</th>\n",
       "      <td>2023-05-01 01:00:00</td>\n",
       "      <td>53</td>\n",
       "      <td>Neck Rd (Q)</td>\n",
       "      <td>Brooklyn</td>\n",
       "      <td>1</td>\n",
       "      <td>40.595245</td>\n",
       "      <td>-73.955162</td>\n",
       "      <td>POINT (-73.95516204833984 40.595245361328125)</td>\n",
       "      <td>Monday</td>\n",
       "    </tr>\n",
       "  </tbody>\n",
       "</table>\n",
       "</div>"
      ],
      "text/plain": [
       "            timestamp station_id       station  district  ridership  \\\n",
       "0 2023-05-01 01:00:00         52  Avenue U (Q)  Brooklyn          2   \n",
       "1 2023-05-01 01:00:00         52  Avenue U (Q)  Brooklyn          3   \n",
       "2 2023-05-01 01:00:00         52  Avenue U (Q)  Brooklyn          1   \n",
       "3 2023-05-01 01:00:00         53   Neck Rd (Q)  Brooklyn          1   \n",
       "4 2023-05-01 01:00:00         53   Neck Rd (Q)  Brooklyn          1   \n",
       "\n",
       "    latitude  longitude                                   Georeference  \\\n",
       "0  40.599300 -73.955933   POINT (-73.9559326171875 40.599300384521484)   \n",
       "1  40.599300 -73.955933   POINT (-73.9559326171875 40.599300384521484)   \n",
       "2  40.599300 -73.955933   POINT (-73.9559326171875 40.599300384521484)   \n",
       "3  40.595245 -73.955162  POINT (-73.95516204833984 40.595245361328125)   \n",
       "4  40.595245 -73.955162  POINT (-73.95516204833984 40.595245361328125)   \n",
       "\n",
       "  weekdays  \n",
       "0   Monday  \n",
       "1   Monday  \n",
       "2   Monday  \n",
       "3   Monday  \n",
       "4   Monday  "
      ]
     },
     "execution_count": 37,
     "metadata": {},
     "output_type": "execute_result"
    }
   ],
   "source": [
    "df.head()"
   ]
  },
  {
   "cell_type": "code",
   "execution_count": 38,
   "id": "d53d8f46",
   "metadata": {},
   "outputs": [
    {
     "data": {
      "text/plain": [
       "Times Sq-42 St (N,Q,R,W,S,1,2,3,7)/42 St (A,C,E)      6532\n",
       "74-Broadway (7)/Jackson Hts-Roosevelt Av (E,F,M,R)    6392\n",
       "Atlantic Av-Barclays Ctr (B,D,N,Q,R,2,3,4,5)          6379\n",
       "Grand Central-42 St (S,4,5,6,7)                       6372\n",
       "34 St-Penn Station (1,2,3)                            6306\n",
       "                                                      ... \n",
       "Neptune Av (F)                                        3247\n",
       "Bay Pkwy (F)                                          3121\n",
       "Beach 98 St (A,S)                                     2667\n",
       "Broad Channel (A,S)                                   2128\n",
       "Beach 105 St (A,S)                                    1977\n",
       "Name: station, Length: 424, dtype: int64"
      ]
     },
     "execution_count": 38,
     "metadata": {},
     "output_type": "execute_result"
    }
   ],
   "source": [
    "df['station'].value_counts()"
   ]
  },
  {
   "cell_type": "code",
   "execution_count": 39,
   "id": "5a42d04c",
   "metadata": {},
   "outputs": [],
   "source": [
    "# cleaning unnecessary characters for station names can help us get more understandable graphs in the future\n",
    "df['station'] = df['station'].apply(lambda x: x.split('(')[0].strip())"
   ]
  },
  {
   "cell_type": "code",
   "execution_count": 40,
   "id": "4beb2845",
   "metadata": {},
   "outputs": [
    {
     "data": {
      "text/plain": [
       "86 St            33042\n",
       "23 St            28345\n",
       "125 St           23114\n",
       "96 St            22595\n",
       "72 St            16716\n",
       "                 ...  \n",
       "Avenue N          3402\n",
       "Neptune Av        3247\n",
       "Beach 98 St       2667\n",
       "Broad Channel     2128\n",
       "Beach 105 St      1977\n",
       "Name: station, Length: 340, dtype: int64"
      ]
     },
     "execution_count": 40,
     "metadata": {},
     "output_type": "execute_result"
    }
   ],
   "source": [
    "df['station'].value_counts()"
   ]
  },
  {
   "cell_type": "code",
   "execution_count": 41,
   "id": "d94501e4",
   "metadata": {},
   "outputs": [
    {
     "data": {
      "text/html": [
       "<div>\n",
       "<style scoped>\n",
       "    .dataframe tbody tr th:only-of-type {\n",
       "        vertical-align: middle;\n",
       "    }\n",
       "\n",
       "    .dataframe tbody tr th {\n",
       "        vertical-align: top;\n",
       "    }\n",
       "\n",
       "    .dataframe thead th {\n",
       "        text-align: right;\n",
       "    }\n",
       "</style>\n",
       "<table border=\"1\" class=\"dataframe\">\n",
       "  <thead>\n",
       "    <tr style=\"text-align: right;\">\n",
       "      <th></th>\n",
       "      <th>timestamp</th>\n",
       "      <th>station_id</th>\n",
       "      <th>station</th>\n",
       "      <th>district</th>\n",
       "      <th>ridership</th>\n",
       "      <th>latitude</th>\n",
       "      <th>longitude</th>\n",
       "      <th>Georeference</th>\n",
       "      <th>weekdays</th>\n",
       "    </tr>\n",
       "  </thead>\n",
       "  <tbody>\n",
       "    <tr>\n",
       "      <th>69844</th>\n",
       "      <td>2023-05-01 23:00:00</td>\n",
       "      <td>265</td>\n",
       "      <td>Grand Av-Newtown</td>\n",
       "      <td>Queens</td>\n",
       "      <td>3</td>\n",
       "      <td>40.737015</td>\n",
       "      <td>-73.877220</td>\n",
       "      <td>POINT (-73.8772201538086 40.73701477050781)</td>\n",
       "      <td>Monday</td>\n",
       "    </tr>\n",
       "    <tr>\n",
       "      <th>906989</th>\n",
       "      <td>2023-05-13 16:00:00</td>\n",
       "      <td>326</td>\n",
       "      <td>Franklin St</td>\n",
       "      <td>Manhattan</td>\n",
       "      <td>20</td>\n",
       "      <td>40.719318</td>\n",
       "      <td>-74.006889</td>\n",
       "      <td>POINT (-74.00688934326172 40.71931838989258)</td>\n",
       "      <td>Saturday</td>\n",
       "    </tr>\n",
       "    <tr>\n",
       "      <th>227469</th>\n",
       "      <td>2023-05-04 04:00:00</td>\n",
       "      <td>26</td>\n",
       "      <td>DeKalb Av</td>\n",
       "      <td>Brooklyn</td>\n",
       "      <td>9</td>\n",
       "      <td>40.690636</td>\n",
       "      <td>-73.981827</td>\n",
       "      <td>POINT (-73.98182678222656 40.690635681152344)</td>\n",
       "      <td>Thursday</td>\n",
       "    </tr>\n",
       "    <tr>\n",
       "      <th>1760340</th>\n",
       "      <td>2023-05-25 19:00:00</td>\n",
       "      <td>56</td>\n",
       "      <td>Ocean Pkwy</td>\n",
       "      <td>Brooklyn</td>\n",
       "      <td>21</td>\n",
       "      <td>40.576313</td>\n",
       "      <td>-73.968498</td>\n",
       "      <td>POINT (-73.96849822998047 40.57631301879883)</td>\n",
       "      <td>Thursday</td>\n",
       "    </tr>\n",
       "    <tr>\n",
       "      <th>1691209</th>\n",
       "      <td>2023-05-24 20:00:00</td>\n",
       "      <td>22</td>\n",
       "      <td>Rector St</td>\n",
       "      <td>Manhattan</td>\n",
       "      <td>3</td>\n",
       "      <td>40.707218</td>\n",
       "      <td>-74.013344</td>\n",
       "      <td>POINT (-74.01334381103516 40.707218170166016)</td>\n",
       "      <td>Wednesday</td>\n",
       "    </tr>\n",
       "  </tbody>\n",
       "</table>\n",
       "</div>"
      ],
      "text/plain": [
       "                  timestamp station_id           station   district  \\\n",
       "69844   2023-05-01 23:00:00        265  Grand Av-Newtown     Queens   \n",
       "906989  2023-05-13 16:00:00        326       Franklin St  Manhattan   \n",
       "227469  2023-05-04 04:00:00         26         DeKalb Av   Brooklyn   \n",
       "1760340 2023-05-25 19:00:00         56        Ocean Pkwy   Brooklyn   \n",
       "1691209 2023-05-24 20:00:00         22         Rector St  Manhattan   \n",
       "\n",
       "         ridership   latitude  longitude  \\\n",
       "69844            3  40.737015 -73.877220   \n",
       "906989          20  40.719318 -74.006889   \n",
       "227469           9  40.690636 -73.981827   \n",
       "1760340         21  40.576313 -73.968498   \n",
       "1691209          3  40.707218 -74.013344   \n",
       "\n",
       "                                          Georeference   weekdays  \n",
       "69844      POINT (-73.8772201538086 40.73701477050781)     Monday  \n",
       "906989    POINT (-74.00688934326172 40.71931838989258)   Saturday  \n",
       "227469   POINT (-73.98182678222656 40.690635681152344)   Thursday  \n",
       "1760340   POINT (-73.96849822998047 40.57631301879883)   Thursday  \n",
       "1691209  POINT (-74.01334381103516 40.707218170166016)  Wednesday  "
      ]
     },
     "execution_count": 41,
     "metadata": {},
     "output_type": "execute_result"
    }
   ],
   "source": [
    "df.sample(5)"
   ]
  },
  {
   "cell_type": "code",
   "execution_count": 42,
   "id": "3c07e0a5",
   "metadata": {},
   "outputs": [],
   "source": [
    "# the column of 'georeference' is not necessary in this case\n",
    "df = df.drop(['Georeference'], axis=1)"
   ]
  },
  {
   "cell_type": "code",
   "execution_count": 43,
   "id": "f4b8f2d4",
   "metadata": {},
   "outputs": [
    {
     "data": {
      "text/html": [
       "<div>\n",
       "<style scoped>\n",
       "    .dataframe tbody tr th:only-of-type {\n",
       "        vertical-align: middle;\n",
       "    }\n",
       "\n",
       "    .dataframe tbody tr th {\n",
       "        vertical-align: top;\n",
       "    }\n",
       "\n",
       "    .dataframe thead th {\n",
       "        text-align: right;\n",
       "    }\n",
       "</style>\n",
       "<table border=\"1\" class=\"dataframe\">\n",
       "  <thead>\n",
       "    <tr style=\"text-align: right;\">\n",
       "      <th></th>\n",
       "      <th>timestamp</th>\n",
       "      <th>station_id</th>\n",
       "      <th>station</th>\n",
       "      <th>district</th>\n",
       "      <th>ridership</th>\n",
       "      <th>latitude</th>\n",
       "      <th>longitude</th>\n",
       "      <th>weekdays</th>\n",
       "    </tr>\n",
       "  </thead>\n",
       "  <tbody>\n",
       "    <tr>\n",
       "      <th>1507519</th>\n",
       "      <td>2023-05-22 10:00:00</td>\n",
       "      <td>157</td>\n",
       "      <td>96 St</td>\n",
       "      <td>Manhattan</td>\n",
       "      <td>8</td>\n",
       "      <td>40.791641</td>\n",
       "      <td>-73.964699</td>\n",
       "      <td>Monday</td>\n",
       "    </tr>\n",
       "    <tr>\n",
       "      <th>1654889</th>\n",
       "      <td>2023-05-24 10:00:00</td>\n",
       "      <td>91</td>\n",
       "      <td>Alabama Av</td>\n",
       "      <td>Brooklyn</td>\n",
       "      <td>4</td>\n",
       "      <td>40.676991</td>\n",
       "      <td>-73.898651</td>\n",
       "      <td>Wednesday</td>\n",
       "    </tr>\n",
       "    <tr>\n",
       "      <th>2086085</th>\n",
       "      <td>2023-05-30 14:00:00</td>\n",
       "      <td>363</td>\n",
       "      <td>Westchester Sq-E Tremont Av</td>\n",
       "      <td>Bronx</td>\n",
       "      <td>61</td>\n",
       "      <td>40.839893</td>\n",
       "      <td>-73.842949</td>\n",
       "      <td>Tuesday</td>\n",
       "    </tr>\n",
       "  </tbody>\n",
       "</table>\n",
       "</div>"
      ],
      "text/plain": [
       "                  timestamp station_id                      station  \\\n",
       "1507519 2023-05-22 10:00:00        157                        96 St   \n",
       "1654889 2023-05-24 10:00:00         91                   Alabama Av   \n",
       "2086085 2023-05-30 14:00:00        363  Westchester Sq-E Tremont Av   \n",
       "\n",
       "          district  ridership   latitude  longitude   weekdays  \n",
       "1507519  Manhattan          8  40.791641 -73.964699     Monday  \n",
       "1654889   Brooklyn          4  40.676991 -73.898651  Wednesday  \n",
       "2086085      Bronx         61  40.839893 -73.842949    Tuesday  "
      ]
     },
     "execution_count": 43,
     "metadata": {},
     "output_type": "execute_result"
    }
   ],
   "source": [
    "df.sample(3)"
   ]
  },
  {
   "cell_type": "code",
   "execution_count": 44,
   "id": "00636063",
   "metadata": {},
   "outputs": [
    {
     "data": {
      "text/html": [
       "<div>\n",
       "<style scoped>\n",
       "    .dataframe tbody tr th:only-of-type {\n",
       "        vertical-align: middle;\n",
       "    }\n",
       "\n",
       "    .dataframe tbody tr th {\n",
       "        vertical-align: top;\n",
       "    }\n",
       "\n",
       "    .dataframe thead th {\n",
       "        text-align: right;\n",
       "    }\n",
       "</style>\n",
       "<table border=\"1\" class=\"dataframe\">\n",
       "  <thead>\n",
       "    <tr style=\"text-align: right;\">\n",
       "      <th></th>\n",
       "      <th>station</th>\n",
       "      <th>total_ridership</th>\n",
       "    </tr>\n",
       "  </thead>\n",
       "  <tbody>\n",
       "    <tr>\n",
       "      <th>0</th>\n",
       "      <td>Times Sq-42 St</td>\n",
       "      <td>3800190</td>\n",
       "    </tr>\n",
       "    <tr>\n",
       "      <th>1</th>\n",
       "      <td>34 St-Penn Station</td>\n",
       "      <td>2783786</td>\n",
       "    </tr>\n",
       "    <tr>\n",
       "      <th>2</th>\n",
       "      <td>Grand Central-42 St</td>\n",
       "      <td>2696565</td>\n",
       "    </tr>\n",
       "    <tr>\n",
       "      <th>3</th>\n",
       "      <td>86 St</td>\n",
       "      <td>2332154</td>\n",
       "    </tr>\n",
       "    <tr>\n",
       "      <th>4</th>\n",
       "      <td>34 St-Herald Sq</td>\n",
       "      <td>2086140</td>\n",
       "    </tr>\n",
       "  </tbody>\n",
       "</table>\n",
       "</div>"
      ],
      "text/plain": [
       "               station  total_ridership\n",
       "0       Times Sq-42 St          3800190\n",
       "1   34 St-Penn Station          2783786\n",
       "2  Grand Central-42 St          2696565\n",
       "3                86 St          2332154\n",
       "4      34 St-Herald Sq          2086140"
      ]
     },
     "execution_count": 44,
     "metadata": {},
     "output_type": "execute_result"
    }
   ],
   "source": [
    "crowded_stations = df.groupby('station')['ridership'].sum().sort_values(ascending = False).reset_index().head(5)\n",
    "crowded_stations = crowded_stations.rename(columns={'ridership': 'total_ridership'})\n",
    "crowded_stations"
   ]
  },
  {
   "cell_type": "code",
   "execution_count": 45,
   "id": "dd010d87",
   "metadata": {},
   "outputs": [
    {
     "data": {
      "image/png": "[encoded data removed]",
      "text/plain": [
       "<Figure size 800x600 with 1 Axes>"
      ]
     },
     "metadata": {},
     "output_type": "display_data"
    }
   ],
   "source": [
    "plt.figure(figsize=(8, 6))\n",
    "sorted_crowded_stations = crowded_stations.sort_values(by='total_ridership', ascending=False)\n",
    "plt.bar(sorted_crowded_stations['station'], sorted_crowded_stations['total_ridership'], color='orange', linewidth=0.5)\n",
    "plt.xlabel('Stations')\n",
    "plt.ylabel('Total Ridership')\n",
    "plt.title('TOP 5 STATIONS', fontweight='bold')\n",
    "plt.xticks(rotation=45, ha='right', fontsize=10, fontweight='bold')\n",
    "plt.tight_layout()\n",
    "plt.gca().spines['top'].set_linewidth(4)\n",
    "plt.gca().spines['bottom'].set_linewidth(4)\n",
    "plt.gca().spines['left'].set_linewidth(4)\n",
    "plt.gca().spines['right'].set_linewidth(4)\n",
    "plt.show()"
   ]
  },
  {
   "cell_type": "code",
   "execution_count": 46,
   "id": "48707614",
   "metadata": {},
   "outputs": [
    {
     "data": {
      "text/html": [
       "<div>\n",
       "<style scoped>\n",
       "    .dataframe tbody tr th:only-of-type {\n",
       "        vertical-align: middle;\n",
       "    }\n",
       "\n",
       "    .dataframe tbody tr th {\n",
       "        vertical-align: top;\n",
       "    }\n",
       "\n",
       "    .dataframe thead th {\n",
       "        text-align: right;\n",
       "    }\n",
       "</style>\n",
       "<table border=\"1\" class=\"dataframe\">\n",
       "  <thead>\n",
       "    <tr style=\"text-align: right;\">\n",
       "      <th></th>\n",
       "      <th>weekdays</th>\n",
       "      <th>total_ridership</th>\n",
       "    </tr>\n",
       "  </thead>\n",
       "  <tbody>\n",
       "    <tr>\n",
       "      <th>0</th>\n",
       "      <td>Wednesday</td>\n",
       "      <td>20132056</td>\n",
       "    </tr>\n",
       "    <tr>\n",
       "      <th>1</th>\n",
       "      <td>Tuesday</td>\n",
       "      <td>19641236</td>\n",
       "    </tr>\n",
       "    <tr>\n",
       "      <th>2</th>\n",
       "      <td>Monday</td>\n",
       "      <td>16383889</td>\n",
       "    </tr>\n",
       "    <tr>\n",
       "      <th>3</th>\n",
       "      <td>Thursday</td>\n",
       "      <td>16030824</td>\n",
       "    </tr>\n",
       "    <tr>\n",
       "      <th>4</th>\n",
       "      <td>Friday</td>\n",
       "      <td>14849314</td>\n",
       "    </tr>\n",
       "    <tr>\n",
       "      <th>5</th>\n",
       "      <td>Saturday</td>\n",
       "      <td>9731035</td>\n",
       "    </tr>\n",
       "    <tr>\n",
       "      <th>6</th>\n",
       "      <td>Sunday</td>\n",
       "      <td>8115632</td>\n",
       "    </tr>\n",
       "  </tbody>\n",
       "</table>\n",
       "</div>"
      ],
      "text/plain": [
       "    weekdays  total_ridership\n",
       "0  Wednesday         20132056\n",
       "1    Tuesday         19641236\n",
       "2     Monday         16383889\n",
       "3   Thursday         16030824\n",
       "4     Friday         14849314\n",
       "5   Saturday          9731035\n",
       "6     Sunday          8115632"
      ]
     },
     "execution_count": 46,
     "metadata": {},
     "output_type": "execute_result"
    }
   ],
   "source": [
    "crowded_days = df.groupby('weekdays')['ridership'].sum().sort_values(ascending = False).reset_index()\n",
    "crowded_days = crowded_days.rename(columns={'ridership': 'total_ridership'})\n",
    "crowded_days"
   ]
  },
  {
   "cell_type": "code",
   "execution_count": 47,
   "id": "4117c287",
   "metadata": {},
   "outputs": [
    {
     "data": {
      "image/png": "[encoded data removed]",
      "text/plain": [
       "<Figure size 800x600 with 1 Axes>"
      ]
     },
     "metadata": {},
     "output_type": "display_data"
    }
   ],
   "source": [
    "plt.figure(figsize=(8, 6))\n",
    "plt.bar(crowded_days['weekdays'], crowded_days['total_ridership'], color='mediumorchid', linewidth=0.5)\n",
    "plt.title('TOTAL TRAFFIC ACCORDING TO DAYS OF A WEEK', fontweight='bold')\n",
    "plt.xlabel('Days')\n",
    "plt.ylabel('Total Ridership')\n",
    "plt.xticks(rotation=45, ha='right', fontsize=10, fontweight='bold')\n",
    "plt.tight_layout()\n",
    "plt.gca().spines['top'].set_linewidth(4)\n",
    "plt.gca().spines['bottom'].set_linewidth(4)\n",
    "plt.gca().spines['left'].set_linewidth(4)\n",
    "plt.gca().spines['right'].set_linewidth(4)\n",
    "plt.show()"
   ]
  },
  {
   "cell_type": "code",
   "execution_count": 48,
   "id": "e32cbc18",
   "metadata": {},
   "outputs": [],
   "source": [
    "df['weekdays'] = pd.to_datetime(df['timestamp']).dt.dayofweek\n",
    "df['is_weekend'] = (df['weekdays'] >= 5) \n",
    "\n",
    "weekday_grouped = df[df['is_weekend'] == False].groupby('station')['ridership'].sum().reset_index()\n",
    "weekend_grouped = df[df['is_weekend'] == True].groupby('station')['ridership'].sum().reset_index()\n",
    "\n",
    "top_weekday_stations = weekday_grouped.sort_values(by='ridership', ascending=False).head(5)\n",
    "top_weekend_stations = weekend_grouped.sort_values(by='ridership', ascending=False).head(5)"
   ]
  },
  {
   "cell_type": "code",
   "execution_count": 49,
   "id": "91358160",
   "metadata": {},
   "outputs": [
    {
     "data": {
      "image/png": "[encoded data removed]",
      "text/plain": [
       "<Figure size 1200x600 with 2 Axes>"
      ]
     },
     "metadata": {},
     "output_type": "display_data"
    }
   ],
   "source": [
    "plt.figure(figsize=(12, 6))\n",
    "\n",
    "plt.suptitle('Top 5 Stations by Ridership on Weekdays and Weekends ', fontsize = 15)\n",
    "\n",
    "plt.subplot(1,2,1)\n",
    "plt.bar(top_weekday_stations['station'], top_weekday_stations['ridership'], color='purple')\n",
    "plt.title('Weekday Top 5 Stations',fontweight='bold')\n",
    "plt.xlabel('Stations')\n",
    "plt.ylabel('Total Ridership')\n",
    "plt.xticks(rotation=45, ha='right', fontsize=10,fontweight='bold')\n",
    "plt.tight_layout()\n",
    "plt.gca().spines['top'].set_linewidth(4)\n",
    "plt.gca().spines['bottom'].set_linewidth(4)\n",
    "plt.gca().spines['left'].set_linewidth(4)\n",
    "plt.gca().spines['right'].set_linewidth(4)\n",
    "\n",
    "plt.subplot(1,2,2)\n",
    "plt.bar(top_weekend_stations['station'],top_weekend_stations['ridership'], color='orange')\n",
    "plt.title('Weekend Top 5 Stations',fontweight='bold')\n",
    "plt.xlabel('Stations')\n",
    "plt.ylabel('Total Ridership')\n",
    "plt.xticks(rotation=45, ha='right', fontsize=10,fontweight='bold')\n",
    "plt.tight_layout()\n",
    "plt.gca().spines['top'].set_linewidth(4)\n",
    "plt.gca().spines['bottom'].set_linewidth(4)\n",
    "plt.gca().spines['left'].set_linewidth(4)\n",
    "plt.gca().spines['right'].set_linewidth(4)\n",
    "\n",
    "plt.tight_layout()\n",
    "plt.show()"
   ]
  },
  {
   "cell_type": "code",
   "execution_count": 50,
   "id": "927fadf0",
   "metadata": {},
   "outputs": [],
   "source": [
    "district_grouped = df.groupby('district')['ridership'].sum().reset_index()\n",
    "top_districts = district_grouped.sort_values(by='ridership', ascending=True)"
   ]
  },
  {
   "cell_type": "code",
   "execution_count": 51,
   "id": "22c4e76d",
   "metadata": {},
   "outputs": [
    {
     "data": {
      "image/png": "[encoded data removed]",
      "text/plain": [
       "<Figure size 600x600 with 1 Axes>"
      ]
     },
     "metadata": {},
     "output_type": "display_data"
    }
   ],
   "source": [
    "import matplotlib.pyplot as plt\n",
    "plt.figure(figsize=(6, 6),facecolor='grey')\n",
    "colors = plt.cm.tab20.colors\n",
    "plt.pie(top_districts['ridership'] ,labels=top_districts['district'],explode = [0,0,.1,.2], colors=colors,autopct='%1.1f%%', startangle=140,textprops={'fontweight': 'bold'} )\n",
    "plt.title('Percentage of Total Ridership by District')\n",
    "plt.show()"
   ]
  },
  {
   "cell_type": "code",
   "execution_count": null,
   "id": "a45be0a3",
   "metadata": {},
   "outputs": [],
   "source": []
  }
 ],
 "metadata": {
  "kernelspec": {
   "display_name": "Python 3 (ipykernel)",
   "language": "python",
   "name": "python3"
  },
  "language_info": {
   "codemirror_mode": {
    "name": "ipython",
    "version": 3
   },
   "file_extension": ".py",
   "mimetype": "text/x-python",
   "name": "python",
   "nbconvert_exporter": "python",
   "pygments_lexer": "ipython3",
   "version": "3.9.13"
  }
 },
 "nbformat": 4,
 "nbformat_minor": 5
}
